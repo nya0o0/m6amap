{
 "cells": [
  {
   "cell_type": "code",
   "execution_count": 1,
   "id": "d56dd773-1576-4014-9a3c-740d1cf17761",
   "metadata": {},
   "outputs": [],
   "source": [
    "import subprocess\n",
    "import os"
   ]
  },
  {
   "cell_type": "code",
   "execution_count": 9,
   "id": "62bc98bb-98eb-4390-bcdd-47d0b2306529",
   "metadata": {},
   "outputs": [],
   "source": [
    "def run_m6anet(eventalign_path, output_dir, n_processes=4, num_iterations=1000):\n",
    "\n",
    "    # Step 1: Dataprep\n",
    "    dataprep_command = [\n",
    "        \"m6anet\", \"dataprep\",\n",
    "        \"--eventalign\", eventalign_path,\n",
    "        \"--out_dir\", output_dir,\n",
    "        \"--n_processes\", str(n_processes)\n",
    "    ]\n",
    "\n",
    "    print(\"Running m6anet dataprep...\")\n",
    "    result = subprocess.run(dataprep_command, capture_output=True, text=True)\n",
    "    if result.returncode != 0:\n",
    "        raise RuntimeError(\"m6anet dataprep failed.\")\n",
    "    else:\n",
    "        print(\"m6anet dataprep finished.\")\n",
    "\n",
    "    # Step 2: Inference\n",
    "    inference_command = [\n",
    "        \"m6anet\", \"inference\",\n",
    "        \"--input_dir\", output_dir,\n",
    "        \"--out_dir\", output_dir,\n",
    "        \"--n_processes\", str(n_processes),\n",
    "        \"--num_iterations\", str(num_iterations)\n",
    "    ]\n",
    "\n",
    "    print(\"Running m6anet inference...\")\n",
    "    result = subprocess.run(inference_command, capture_output=True, text=True)\n",
    "    if result.returncode != 0:\n",
    "        raise RuntimeError(\"m6anet inference failed.\")\n",
    "    else:\n",
    "        print(\"m6anet inference finished.\")\n",
    "        print(f\"Output files save to {output_dir}/.\")"
   ]
  },
  {
   "cell_type": "code",
   "execution_count": 10,
   "id": "6c084902-84d6-46bb-951d-2e6ebbd55417",
   "metadata": {},
   "outputs": [
    {
     "name": "stdout",
     "output_type": "stream",
     "text": [
      "Running m6anet dataprep...\n",
      "m6anet dataprep finished.\n",
      "Running m6anet inference...\n",
      "m6anet inference finished.\n",
      "Output files save to m6anetoutput_test/.\n"
     ]
    }
   ],
   "source": [
    "eventalign_path = \"m6anet/m6anet/m6anet/tests/data/eventalign.txt\"\n",
    "output_dir = \"m6anetoutput_test\"\n",
    "\n",
    "run_m6anet(eventalign_path, output_dir)"
   ]
  },
  {
   "cell_type": "code",
   "execution_count": 11,
   "id": "f503c503-e257-4e72-8eb2-095977b74bce",
   "metadata": {},
   "outputs": [
    {
     "name": "stderr",
     "output_type": "stream",
     "text": [
      "/home/nya0o0/miniconda3/envs/m6anet/lib/python3.8/site-packages/tqdm/auto.py:21: TqdmWarning: IProgress not found. Please update jupyter and ipywidgets. See https://ipywidgets.readthedocs.io/en/stable/user_install.html\n",
      "  from .autonotebook import tqdm as notebook_tqdm\n"
     ]
    }
   ],
   "source": [
    "import m6anet"
   ]
  },
  {
   "cell_type": "code",
   "execution_count": 13,
   "id": "33d958cf-43d2-453d-90e9-9207dfe9f7e6",
   "metadata": {},
   "outputs": [],
   "source": [
    "import sys\n",
    "import os"
   ]
  },
  {
   "cell_type": "code",
   "execution_count": 15,
   "id": "a5ef3e17-0138-4c66-a3c3-78bbf50f4f84",
   "metadata": {},
   "outputs": [
    {
     "data": {
      "text/plain": [
       "'/home/nya0o0/miniconda3/envs/m6anet/m6anet'"
      ]
     },
     "execution_count": 15,
     "metadata": {},
     "output_type": "execute_result"
    }
   ],
   "source": [
    "m6anet_module = os.path.join(sys.prefix, \"m6anet\")\n",
    "m6anet_module"
   ]
  },
  {
   "cell_type": "code",
   "execution_count": 16,
   "id": "68ed44af-98fe-4820-9816-9a9f75328907",
   "metadata": {},
   "outputs": [
    {
     "ename": "OSError",
     "evalue": "m6anet is not installed. Please install it with 'conda install m6anet'",
     "output_type": "error",
     "traceback": [
      "\u001b[0;31m---------------------------------------------------------------------------\u001b[0m",
      "\u001b[0;31mOSError\u001b[0m                                   Traceback (most recent call last)",
      "Cell \u001b[0;32mIn[16], line 2\u001b[0m\n\u001b[1;32m      1\u001b[0m \u001b[38;5;28;01mif\u001b[39;00m \u001b[38;5;129;01mnot\u001b[39;00m os\u001b[38;5;241m.\u001b[39mpath\u001b[38;5;241m.\u001b[39mexists(m6anet_module):\n\u001b[0;32m----> 2\u001b[0m     \u001b[38;5;28;01mraise\u001b[39;00m \u001b[38;5;167;01mIOError\u001b[39;00m(\u001b[38;5;124m\"\u001b[39m\u001b[38;5;124mm6anet is not installed. Please install it with \u001b[39m\u001b[38;5;124m'\u001b[39m\u001b[38;5;124mconda install m6anet\u001b[39m\u001b[38;5;124m'\u001b[39m\u001b[38;5;124m\"\u001b[39m)\n",
      "\u001b[0;31mOSError\u001b[0m: m6anet is not installed. Please install it with 'conda install m6anet'"
     ]
    }
   ],
   "source": [
    "if not os.path.exists(m6anet_module):\n",
    "    raise IOError(\"m6anet is not installed. Please install it with 'conda install m6anet'\")"
   ]
  },
  {
   "cell_type": "code",
   "execution_count": 17,
   "id": "4503e3a6-f9b5-496c-86f6-829fa798a4c7",
   "metadata": {},
   "outputs": [
    {
     "data": {
      "text/plain": [
       "'/home/nya0o0/miniconda3/envs/m6anet/lib/python3.8/site-packages/m6anet/__init__.py'"
      ]
     },
     "execution_count": 17,
     "metadata": {},
     "output_type": "execute_result"
    }
   ],
   "source": [
    "m6anet.__file__"
   ]
  },
  {
   "cell_type": "code",
   "execution_count": null,
   "id": "f4249bc9-b6e7-4fc4-bcda-0666a955793c",
   "metadata": {},
   "outputs": [],
   "source": []
  }
 ],
 "metadata": {
  "kernelspec": {
   "display_name": "Python 3 (ipykernel)",
   "language": "python",
   "name": "python3"
  },
  "language_info": {
   "codemirror_mode": {
    "name": "ipython",
    "version": 3
   },
   "file_extension": ".py",
   "mimetype": "text/x-python",
   "name": "python",
   "nbconvert_exporter": "python",
   "pygments_lexer": "ipython3",
   "version": "3.12.2"
  }
 },
 "nbformat": 4,
 "nbformat_minor": 5
}
